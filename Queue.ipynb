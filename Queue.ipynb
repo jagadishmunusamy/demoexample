{
  "cells": [
    {
      "cell_type": "markdown",
      "metadata": {
        "id": "view-in-github",
        "colab_type": "text"
      },
      "source": [
        "<a href=\"https://colab.research.google.com/github/jagadishmunusamy/demoexample/blob/main/Queue.ipynb\" target=\"_parent\"><img src=\"https://colab.research.google.com/assets/colab-badge.svg\" alt=\"Open In Colab\"/></a>"
      ]
    },
    {
      "cell_type": "code",
      "execution_count": null,
      "metadata": {
        "colab": {
          "background_save": true,
          "base_uri": "https://localhost:8080/"
        },
        "id": "hobOpegqK_9c",
        "outputId": "25e651f0-f925-45d6-96b6-4905bad6f70d"
      },
      "outputs": [
        {
          "name": "stdout",
          "output_type": "stream",
          "text": [
            "Enter the operation : 1.Add 2.Delete 3.Display 4.quit\n",
            "1,2,3 is added in queue\n",
            "['1,2,3']\n",
            "Enter the operation : 1.Add 2.Delete 3.Display 4.quit\n",
            "1,2,3 is deleted form the queue\n",
            "[]\n",
            "Enter the operation : 1.Add 2.Delete 3.Display 4.quit\n",
            "1 is added in queue\n",
            "['1']\n",
            "Enter the operation : 1.Add 2.Delete 3.Display 4.quit\n",
            "2 is added in queue\n",
            "['1', '2']\n",
            "Enter the operation : 1.Add 2.Delete 3.Display 4.quit\n",
            "3 is added in queue\n",
            "['1', '2', '3']\n",
            "Enter the operation : 1.Add 2.Delete 3.Display 4.quit\n",
            "1 is deleted form the queue\n",
            "['2', '3']\n",
            "Enter the operation : 1.Add 2.Delete 3.Display 4.quit\n"
          ]
        }
      ],
      "source": [
        "queue = []\n",
        "\n",
        "def enqueue():\n",
        "    element = input(\"Enter the element to add: \")\n",
        "    queue.append(element)\n",
        "    print(element, \"is added in queue\")\n",
        "    print(queue)\n",
        "\n",
        "\n",
        "def dequeue():\n",
        "    if not queue:\n",
        "      print(\"queue is empty\")\n",
        "    else:\n",
        "      e = queue.pop(0)\n",
        "      print(e, \"is deleted form the queue\")\n",
        "      print(queue)\n",
        "\n",
        "def display():\n",
        "    print(queue)\n",
        "\n",
        "while True:\n",
        "    print(\"Enter the operation : 1.Add 2.Delete 3.Display 4.quit\")\n",
        "    x = int(input())\n",
        "    if x ==1:\n",
        "       enqueue()\n",
        "    elif x == 2:\n",
        "       dequeue()\n",
        "    elif x == 3:\n",
        "       display()\n",
        "    elif x ==4:\n",
        "       print(\"queue operations completed\")\n",
        "       break\n",
        "    else:\n",
        "       print(\"Enter the correct operation\")"
      ]
    }
  ],
  "metadata": {
    "colab": {
      "provenance": [],
      "authorship_tag": "ABX9TyPnCdQyRW4McyufVBy/zT/B",
      "include_colab_link": true
    },
    "kernelspec": {
      "display_name": "Python 3",
      "name": "python3"
    },
    "language_info": {
      "name": "python"
    }
  },
  "nbformat": 4,
  "nbformat_minor": 0
}